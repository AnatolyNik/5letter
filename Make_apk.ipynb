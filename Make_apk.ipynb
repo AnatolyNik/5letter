{
  "cells": [
    {
      "cell_type": "markdown",
      "metadata": {
        "id": "r8YluRD-QIJy"
      },
      "source": [
        "1. Установка пакетов"
      ]
    },
    {
      "cell_type": "code",
      "execution_count": null,
      "metadata": {
        "id": "fzmtu8ajzFwP"
      },
      "outputs": [],
      "source": [
        "!pip install buildozer\n",
        "!sudo apt-get update\n",
        "!sudo apt-get install -y git unzip openjdk-17-jdk python3-pip autoconf libtool pkg-config zlib1g-dev libncurses5-dev libncursesw5-dev libtinfo5 cmake"
      ]
    },
    {
      "cell_type": "markdown",
      "metadata": {
        "id": "lyHl_4Tb1jPs"
      },
      "source": [
        "2. Загрузка файлов *.py"
      ]
    },
    {
      "cell_type": "markdown",
      "metadata": {
        "id": "hPQisyr1QZ7K"
      },
      "source": [
        "3. Создание файла buildozer.spec"
      ]
    },
    {
      "cell_type": "code",
      "execution_count": null,
      "metadata": {
        "id": "4FSL46GN1vwW"
      },
      "outputs": [],
      "source": [
        "# !buildozer init"
      ]
    },
    {
      "cell_type": "code",
      "source": [
        "from google.colab import files\n",
        "\n",
        "uploaded = files.upload()\n",
        "\n",
        "for fn in uploaded.keys():\n",
        "  print('User uploaded file \"{name}\" with length {length} bytes'.format(\n",
        "      name=fn, length=len(uploaded[fn])))"
      ],
      "metadata": {
        "id": "vrzLKl0sSe2D"
      },
      "execution_count": null,
      "outputs": []
    },
    {
      "cell_type": "markdown",
      "metadata": {
        "id": "wgWKWOyVQjin"
      },
      "source": [
        "4. Создание APK"
      ]
    },
    {
      "cell_type": "code",
      "execution_count": null,
      "metadata": {
        "id": "K3uH52Dt18k6"
      },
      "outputs": [],
      "source": [
        "!buildozer android release\n",
        "# !buildozer -v android debug"
      ]
    }
  ],
  "metadata": {
    "colab": {
      "provenance": []
    },
    "kernelspec": {
      "display_name": "Python 3",
      "name": "python3"
    },
    "language_info": {
      "name": "python"
    }
  },
  "nbformat": 4,
  "nbformat_minor": 0
}