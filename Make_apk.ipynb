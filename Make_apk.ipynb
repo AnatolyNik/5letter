{
  "cells": [
    {
      "cell_type": "markdown",
      "metadata": {
        "id": "r8YluRD-QIJy"
      },
      "source": [
        "1. Установка пакетов"
      ]
    },
    {
      "cell_type": "code",
      "execution_count": 4,
      "metadata": {
        "id": "fzmtu8ajzFwP",
        "colab": {
          "base_uri": "https://localhost:8080/"
        },
        "outputId": "143fc33b-4d8d-4acc-d322-eb4c9b152ff9"
      },
      "outputs": [
        {
          "output_type": "stream",
          "name": "stdout",
          "text": [
            "Requirement already satisfied: buildozer in /usr/local/lib/python3.11/dist-packages (1.5.0)\n",
            "Requirement already satisfied: pexpect in /usr/local/lib/python3.11/dist-packages (from buildozer) (4.9.0)\n",
            "Requirement already satisfied: virtualenv in /usr/local/lib/python3.11/dist-packages (from buildozer) (20.30.0)\n",
            "Requirement already satisfied: sh in /usr/local/lib/python3.11/dist-packages (from buildozer) (2.2.2)\n",
            "Requirement already satisfied: ptyprocess>=0.5 in /usr/local/lib/python3.11/dist-packages (from pexpect->buildozer) (0.7.0)\n",
            "Requirement already satisfied: distlib<1,>=0.3.7 in /usr/local/lib/python3.11/dist-packages (from virtualenv->buildozer) (0.3.9)\n",
            "Requirement already satisfied: filelock<4,>=3.12.2 in /usr/local/lib/python3.11/dist-packages (from virtualenv->buildozer) (3.18.0)\n",
            "Requirement already satisfied: platformdirs<5,>=3.9.1 in /usr/local/lib/python3.11/dist-packages (from virtualenv->buildozer) (4.3.7)\n",
            "Hit:1 https://cloud.r-project.org/bin/linux/ubuntu jammy-cran40/ InRelease\n",
            "Hit:2 https://developer.download.nvidia.com/compute/cuda/repos/ubuntu2204/x86_64  InRelease\n",
            "Hit:3 http://security.ubuntu.com/ubuntu jammy-security InRelease\n",
            "Hit:4 https://r2u.stat.illinois.edu/ubuntu jammy InRelease\n",
            "Hit:5 http://archive.ubuntu.com/ubuntu jammy InRelease\n",
            "Hit:6 http://archive.ubuntu.com/ubuntu jammy-updates InRelease\n",
            "Hit:7 http://archive.ubuntu.com/ubuntu jammy-backports InRelease\n",
            "Hit:8 https://ppa.launchpadcontent.net/deadsnakes/ppa/ubuntu jammy InRelease\n",
            "Hit:9 https://ppa.launchpadcontent.net/graphics-drivers/ppa/ubuntu jammy InRelease\n",
            "Hit:10 https://ppa.launchpadcontent.net/ubuntugis/ppa/ubuntu jammy InRelease\n",
            "Reading package lists... Done\n",
            "W: Skipping acquire of configured file 'main/source/Sources' as repository 'https://r2u.stat.illinois.edu/ubuntu jammy InRelease' does not seem to provide it (sources.list entry misspelt?)\n",
            "Reading package lists... Done\n",
            "Building dependency tree... Done\n",
            "Reading state information... Done\n",
            "autoconf is already the newest version (2.71-2).\n",
            "libtool is already the newest version (2.4.6-15build2).\n",
            "pkg-config is already the newest version (0.29.2-1ubuntu3).\n",
            "cmake is already the newest version (3.22.1-1ubuntu1.22.04.2).\n",
            "git is already the newest version (1:2.34.1-1ubuntu1.12).\n",
            "libncurses5-dev is already the newest version (6.3-2ubuntu0.1).\n",
            "libncursesw5-dev is already the newest version (6.3-2ubuntu0.1).\n",
            "unzip is already the newest version (6.0-26ubuntu3.2).\n",
            "zlib1g-dev is already the newest version (1:1.2.11.dfsg-2ubuntu9.2).\n",
            "libtinfo5 is already the newest version (6.3-2ubuntu0.1).\n",
            "openjdk-17-jdk is already the newest version (17.0.14+7-1~22.04.1).\n",
            "python3-pip is already the newest version (22.0.2+dfsg-1ubuntu0.5).\n",
            "The following packages were automatically installed and are no longer required:\n",
            "  libbz2-dev libpkgconf3 libreadline-dev\n",
            "Use 'sudo apt autoremove' to remove them.\n",
            "0 upgraded, 0 newly installed, 0 to remove and 45 not upgraded.\n",
            "Инсталляция Завершена\n"
          ]
        }
      ],
      "source": [
        "!pip install buildozer\n",
        "!sudo apt-get update\n",
        "!sudo apt-get install -y git unzip openjdk-17-jdk python3-pip autoconf libtool pkg-config zlib1g-dev libncurses5-dev libncursesw5-dev libtinfo5 cmake\n",
        "print(\"Инсталляция Завершена\")"
      ]
    },
    {
      "cell_type": "markdown",
      "metadata": {
        "id": "lyHl_4Tb1jPs"
      },
      "source": [
        "2. Загрузка файлов *.py"
      ]
    },
    {
      "cell_type": "markdown",
      "metadata": {
        "id": "hPQisyr1QZ7K"
      },
      "source": [
        "3. Создание файла buildozer.spec"
      ]
    },
    {
      "cell_type": "code",
      "execution_count": null,
      "metadata": {
        "id": "4FSL46GN1vwW"
      },
      "outputs": [],
      "source": [
        "# !buildozer init"
      ]
    },
    {
      "cell_type": "code",
      "source": [
        "from google.colab import files\n",
        "\n",
        "uploaded = files.upload()\n",
        "\n",
        "for fn in uploaded.keys():\n",
        "  print('User uploaded file \"{name}\" with length {length} bytes'.format(\n",
        "      name=fn, length=len(uploaded[fn])))"
      ],
      "metadata": {
        "id": "vrzLKl0sSe2D"
      },
      "execution_count": null,
      "outputs": []
    },
    {
      "cell_type": "markdown",
      "metadata": {
        "id": "wgWKWOyVQjin"
      },
      "source": [
        "4. Создание APK"
      ]
    },
    {
      "cell_type": "code",
      "execution_count": null,
      "metadata": {
        "id": "K3uH52Dt18k6"
      },
      "outputs": [],
      "source": [
        "!buildozer android release\n",
        "# !buildozer -v android debug"
      ]
    }
  ],
  "metadata": {
    "colab": {
      "provenance": []
    },
    "kernelspec": {
      "display_name": "Python 3",
      "name": "python3"
    },
    "language_info": {
      "name": "python"
    }
  },
  "nbformat": 4,
  "nbformat_minor": 0
}